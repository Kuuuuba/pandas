{
 "cells": [
  {
   "cell_type": "code",
   "execution_count": null,
   "metadata": {},
   "outputs": [],
   "source": [
    "import pandas as pd\n",
    "import matplotlib.pyplot as plt\n",
    "\n",
    "prices = [\n",
    "\t(1, 2.12),\n",
    "\t(2, 2.56),\n",
    "\t(3, 3.10),\n",
    "\t(4, 3.16),\n",
    "\t(5, 3.58),\n",
    "\t(6, 5.12),\n",
    "\t(7, 5.16),\n",
    "\t(8, 5.20),\n",
    "\t(9, 4.12),\n",
    "\t(10, 4.10),\n",
    "\t(11, 3.65),\n",
    "\t(12, 4.25),\n",
    "\n",
    "]\n",
    "\n",
    "df = pd.DataFrame(prices)\n",
    "df = pd.DataFrame(prices, columns=[\"month\", \"price\"])\n",
    "df = df.set_index(\"month\")\n",
    "\n",
    "\n",
    "dolar = df['price'].apply(lambda price: price / 4)\n",
    "df['priceUSD'] = dolar\n",
    "\n",
    "figure, ax = plt.subplots()\n",
    "ax.plot(df.index, df[\"priceUSD\"], color='red', linewidth=3, linestyle='--')\n",
    "ax.set_xlabel(\"month\")\n",
    "ax.set_title('Price of goods (USD)')\n",
    "ax.axis([0, 13, 0, 2])\n",
    "ax.grid(True)"
   ]
  }
 ],
 "metadata": {
  "interpreter": {
   "hash": "ee6ae478a8799028d215dcd2fc15a748352100c513dacc176d0b56a787bedbb2"
  },
  "kernelspec": {
   "display_name": "Python 3.11.0a3 64-bit",
   "language": "python",
   "name": "python3"
  },
  "language_info": {
   "name": "python",
   "version": "3.11.0"
  },
  "orig_nbformat": 4
 },
 "nbformat": 4,
 "nbformat_minor": 2
}
